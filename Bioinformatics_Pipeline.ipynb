{
  "nbformat": 4,
  "nbformat_minor": 0,
  "metadata": {
    "colab": {
      "provenance": [],
      "authorship_tag": "ABX9TyNYkdamsKEkP0q8s52bSpV/",
      "include_colab_link": true
    },
    "kernelspec": {
      "name": "python3",
      "display_name": "Python 3"
    },
    "language_info": {
      "name": "python"
    }
  },
  "cells": [
    {
      "cell_type": "markdown",
      "metadata": {
        "id": "view-in-github",
        "colab_type": "text"
      },
      "source": [
        "<a href=\"https://colab.research.google.com/github/RashiMakharia/Bioinformatics-Pipeline/blob/main/Bioinformatics_Pipeline.ipynb\" target=\"_parent\"><img src=\"https://colab.research.google.com/assets/colab-badge.svg\" alt=\"Open In Colab\"/></a>"
      ]
    },
    {
      "cell_type": "code",
      "execution_count": null,
      "metadata": {
        "colab": {
          "base_uri": "https://localhost:8080/"
        },
        "id": "ECMJcgwslQSJ",
        "outputId": "31b603e1-b494-4629-e56c-08bb03b656b7"
      },
      "outputs": [
        {
          "output_type": "stream",
          "name": "stdout",
          "text": [
            "Collecting biopython\n",
            "  Downloading biopython-1.85-cp312-cp312-manylinux_2_17_x86_64.manylinux2014_x86_64.whl.metadata (13 kB)\n",
            "Requirement already satisfied: numpy in /usr/local/lib/python3.12/dist-packages (from biopython) (2.0.2)\n",
            "Downloading biopython-1.85-cp312-cp312-manylinux_2_17_x86_64.manylinux2014_x86_64.whl (3.3 MB)\n",
            "\u001b[2K   \u001b[90m━━━━━━━━━━━━━━━━━━━━━━━━━━━━━━━━━━━━━━━━\u001b[0m \u001b[32m3.3/3.3 MB\u001b[0m \u001b[31m46.5 MB/s\u001b[0m eta \u001b[36m0:00:00\u001b[0m\n",
            "\u001b[?25hInstalling collected packages: biopython\n",
            "Successfully installed biopython-1.85\n"
          ]
        },
        {
          "output_type": "stream",
          "name": "stderr",
          "text": [
            "/usr/local/lib/python3.12/dist-packages/Bio/pairwise2.py:278: BiopythonDeprecationWarning: Bio.pairwise2 has been deprecated, and we intend to remove it in a future release of Biopython. As an alternative, please consider using Bio.Align.PairwiseAligner as a replacement, and contact the Biopython developers if you still need the Bio.pairwise2 module.\n",
            "  warnings.warn(\n"
          ]
        }
      ],
      "source": [
        "# -----------------------------\n",
        "# Block 1: Setup & Imports\n",
        "# -----------------------------\n",
        "%pip install biopython\n",
        "from pathlib import Path\n",
        "import requests\n",
        "from Bio import SeqIO, Entrez, SeqUtils, pairwise2\n",
        "from Bio.Seq import Seq\n",
        "from Bio.SeqRecord import SeqRecord\n",
        "from Bio.PDB import PDBParser\n",
        "import matplotlib.pyplot as plt\n",
        "\n",
        "# Set email for NCBI Entrez (required by NCBI policy)\n",
        "Entrez.email = \"rashimakharia21@gmail.com\"\n",
        "\n",
        "# IDs for this project\n",
        "PDB_ID = \"1NQL\"\n",
        "NUCL_ACCESSION = \"NM_000321\"\n",
        "\n",
        "# Output directory\n",
        "OUTDIR = Path(\"pipeline_outputs\")\n",
        "OUTDIR.mkdir(parents=True, exist_ok=True)\n"
      ]
    },
    {
      "cell_type": "code",
      "source": [
        "# -----------------------------\n",
        "# Block 2: Fetch and Parse PDB\n",
        "# -----------------------------\n",
        "def fetch_pdb(pdb_id: str, outdir: Path):\n",
        "    url = f\"https://files.rcsb.org/download/{pdb_id}.pdb\"\n",
        "    r = requests.get(url)\n",
        "    pdb_path = outdir / f\"{pdb_id}.pdb\"\n",
        "    pdb_path.write_text(r.text)\n",
        "    return pdb_path\n",
        "\n",
        "def parse_pdb_sequences(pdb_path: Path):\n",
        "    parser = PDBParser(QUIET=True)\n",
        "    structure = parser.get_structure(pdb_path.stem, str(pdb_path))\n",
        "    seqs = []\n",
        "    for model in structure:\n",
        "        for chain in model:\n",
        "            residues = [res for res in chain]\n",
        "            aa_seq = ''.join(SeqUtils.seq1(res.get_resname()) for res in residues if SeqUtils.seq1(res.get_resname()) != 'X')\n",
        "            if aa_seq:\n",
        "                seqs.append(SeqRecord(Seq(aa_seq), id=f\"{pdb_path.stem}_{chain.id}\", description=f\"chain {chain.id}\"))\n",
        "    return seqs\n",
        "\n",
        "# Run\n",
        "pdb_path = fetch_pdb(PDB_ID, OUTDIR)\n",
        "pdb_seqs = parse_pdb_sequences(pdb_path)\n",
        "\n",
        "# Save sequences\n",
        "SeqIO.write(pdb_seqs, OUTDIR / f\"{PDB_ID}_chains.fasta\", \"fasta\")\n",
        "\n",
        "print(f\"Extracted {len(pdb_seqs)} protein chains from PDB {PDB_ID}\")\n"
      ],
      "metadata": {
        "colab": {
          "base_uri": "https://localhost:8080/"
        },
        "id": "0doq6H7ul1bc",
        "outputId": "cb9e70fa-65b3-4ddc-bf8c-d0354d37e9fa"
      },
      "execution_count": null,
      "outputs": [
        {
          "output_type": "stream",
          "name": "stdout",
          "text": [
            "Extracted 2 protein chains from PDB 1NQL\n"
          ]
        }
      ]
    },
    {
      "cell_type": "code",
      "source": [
        "# -----------------------------\n",
        "# Block 3: Fetch Nucleotide Sequence\n",
        "# -----------------------------\n",
        "def fetch_nucleotide(accession: str, outdir: Path):\n",
        "    handle = Entrez.efetch(db=\"nucleotide\", id=accession, rettype=\"gb\", retmode=\"text\")\n",
        "    text = handle.read()\n",
        "    handle.close()\n",
        "    gb_path = outdir / f\"{accession}.gb\"\n",
        "    gb_path.write_text(text)\n",
        "    return gb_path\n",
        "\n",
        "def parse_genbank(gb_path: Path):\n",
        "    return SeqIO.read(str(gb_path), \"genbank\")\n",
        "\n",
        "# Run\n",
        "gb_path = fetch_nucleotide(NUCL_ACCESSION, OUTDIR)\n",
        "nucl_record = parse_genbank(gb_path)\n",
        "\n",
        "print(f\"Fetched nucleotide {NUCL_ACCESSION}, length = {len(nucl_record.seq)} bp\")\n"
      ],
      "metadata": {
        "colab": {
          "base_uri": "https://localhost:8080/"
        },
        "id": "v2gN_NVVmJ4K",
        "outputId": "acfdb275-7ab7-4949-f4d3-c9f69c2d63e1"
      },
      "execution_count": null,
      "outputs": [
        {
          "output_type": "stream",
          "name": "stdout",
          "text": [
            "Fetched nucleotide NM_000321, length = 4768 bp\n"
          ]
        }
      ]
    },
    {
      "cell_type": "code",
      "source": [
        "# -----------------------------\n",
        "# Block 4: Sequence Analysis\n",
        "# -----------------------------\n",
        "from collections import Counter\n",
        "# GC Content\n",
        "gc_percent = SeqUtils.gc_fraction(nucl_record.seq) * 100\n",
        "print(f\"GC content: {gc_percent:.2f}%\")\n",
        "# ORF finder (naive)\n",
        "def find_orfs(seq, min_len=50):\n",
        "    seq = str(seq).upper()\n",
        "    orfs = []\n",
        "    stops = {\"TAA\",\"TAG\",\"TGA\"}\n",
        "    for frame in range(3):\n",
        "        i = frame\n",
        "        while i < len(seq)-2:\n",
        "            if seq[i:i+3] == \"ATG\":\n",
        "                for j in range(i+3, len(seq)-2, 3):\n",
        "                    if seq[j:j+3] in stops:\n",
        "                        prot = Seq(seq[i:j+3]).translate(to_stop=True)\n",
        "                        if len(prot) >= min_len:\n",
        "                            orfs.append((i+1, j+3, prot))\n",
        "                        break\n",
        "            i += 3\n",
        "    return orfs\n",
        "\n",
        "orfs = find_orfs(nucl_record.seq, 50)\n",
        "print(f\"Found {len(orfs)} ORFs longer than 50 aa\")\n",
        "\n",
        "# Codon usage\n",
        "codons = [str(nucl_record.seq[i:i+3]) for i in range(0,len(nucl_record.seq)-2,3)]\n",
        "codon_counts = Counter(codons)\n",
        "print(\"Top codons:\", codon_counts.most_common(5))\n"
      ],
      "metadata": {
        "colab": {
          "base_uri": "https://localhost:8080/"
        },
        "id": "ogf_qx0ImPPY",
        "outputId": "7fad1a7f-1b2e-4bc7-9810-69ab8a0322cb"
      },
      "execution_count": null,
      "outputs": [
        {
          "output_type": "stream",
          "name": "stdout",
          "text": [
            "GC content: 37.08%\n",
            "Found 25 ORFs longer than 50 aa\n",
            "Top codons: [('AAA', 91), ('TTT', 66), ('GAA', 59), ('AAT', 48), ('TTA', 47)]\n"
          ]
        }
      ]
    },
    {
      "cell_type": "code",
      "source": [
        "# -----------------------------\n",
        "# Block 5: DNA → Protein\n",
        "# -----------------------------\n",
        "# Trim the sequence to be a multiple of 3 before translation\n",
        "trimmed_seq = nucl_record.seq[:len(nucl_record.seq) // 3 * 3]\n",
        "translated_protein = trimmed_seq.translate(to_stop=True)\n",
        "print(f\"Translated protein length: {len(translated_protein)} aa\")"
      ],
      "metadata": {
        "colab": {
          "base_uri": "https://localhost:8080/"
        },
        "id": "Pwfwz5aKmV3B",
        "outputId": "3fbfec6e-1006-482f-94c4-e5327696c617"
      },
      "execution_count": null,
      "outputs": [
        {
          "output_type": "stream",
          "name": "stdout",
          "text": [
            "Translated protein length: 20 aa\n"
          ]
        }
      ]
    },
    {
      "cell_type": "code",
      "source": [
        "# -----------------------------\n",
        "# Block 6: Pairwise Alignment\n",
        "# -----------------------------\n",
        "from Bio import pairwise2\n",
        "\n",
        "if pdb_seqs:\n",
        "    aln = pairwise2.align.globalxx(translated_protein, pdb_seqs[0].seq, one_alignment_only=True)[0]\n",
        "    print(\"Alignment Score:\", aln.score)\n",
        "    print(aln.seqA[:100], \"...\")\n",
        "    print(aln.seqB[:100], \"...\")\n"
      ],
      "metadata": {
        "colab": {
          "base_uri": "https://localhost:8080/"
        },
        "id": "eH3YoqQanM7m",
        "outputId": "9e75244b-8cff-49c0-c19a-70a31244b26c"
      },
      "execution_count": null,
      "outputs": [
        {
          "output_type": "stream",
          "name": "stdout",
          "text": [
            "Alignment Score: 20.0\n",
            "--------S----------------------C-------------R-------------AG---------E-----------G--------A----S--- ...\n",
            "EKKVCQGTSNKLTQLGTFEDHFLSLQRMFNNCEVVLGNLEITYVQRNYDLSFLKTIQEVAGYVLIALNTVERIPLENLQIIRGNMYYENSYALAVLSNYD ...\n"
          ]
        }
      ]
    },
    {
      "cell_type": "code",
      "source": [
        "# -----------------------------\n",
        "# Block 7: Visualization\n",
        "# -----------------------------\n",
        "# GC sliding plot\n",
        "gc_values = [SeqUtils.gc_fraction(nucl_record.seq[i:i+200])*100 for i in range(0,len(nucl_record.seq)-200,200)]\n",
        "plt.plot(gc_values)\n",
        "plt.title(\"GC Content Sliding Window (200 bp)\")\n",
        "plt.ylabel(\"GC%\")\n",
        "plt.xlabel(\"Window\")\n",
        "plt.savefig(OUTDIR / \"gc_plot.png\")\n",
        "plt.show()\n",
        "# Codon usage plot\n",
        "codon_items = codon_counts.most_common(20)\n",
        "labels, values = zip(*codon_items)\n",
        "plt.bar(labels, values)\n",
        "plt.xticks(rotation=90)\n",
        "plt.title(\"Top 20 Codons\")\n",
        "plt.savefig(OUTDIR / \"codon_usage.png\")\n",
        "\n"
      ],
      "metadata": {
        "colab": {
          "base_uri": "https://localhost:8080/",
          "height": 924
        },
        "id": "AhNSTGTsoVbv",
        "outputId": "68cd809d-1e83-4362-bde7-0e7304a1db17"
      },
      "execution_count": null,
      "outputs": [
        {
          "output_type": "display_data",
          "data": {
            "text/plain": [
              "<Figure size 640x480 with 1 Axes>"
            ],
            "image/png": "[encoded data removed]"
          },
          "metadata": {}
        },
        {
          "output_type": "display_data",
          "data": {
            "text/plain": [
              "<Figure size 640x480 with 1 Axes>"
            ],
            "image/png": "[encoded data removed]"
          },
          "metadata": {}
        }
      ]
    },
    {
      "cell_type": "code",
      "source": [
        "from Bio import Entrez, SeqIO\n",
        "from Bio.Blast import NCBIWWW, NCBIXML\n",
        "\n",
        "# Always tell NCBI who you are\n",
        "Entrez.email = \"rashimakharia21@gmail.com\"\n",
        "\n",
        "# Step 1: Fetch NM_000321 record in GenBank format\n",
        "print(\"Fetching NM_000321 from NCBI...\")\n",
        "handle = Entrez.efetch(db=\"nucleotide\", id=\"NM_000321\", rettype=\"gb\", retmode=\"text\")\n",
        "record = SeqIO.read(handle, \"genbank\")\n",
        "handle.close()\n",
        "\n",
        "# Step 2: Extract CDS protein translation\n",
        "protein_seq = None\n",
        "for feature in record.features:\n",
        "    if feature.type == \"CDS\" and \"translation\" in feature.qualifiers:\n",
        "        protein_seq = feature.qualifiers[\"translation\"][0]\n",
        "        break\n",
        "\n",
        "if not protein_seq:\n",
        "    raise ValueError(\"No CDS translation found in NM_000321 record!\")\n",
        "\n",
        "print(f\"✅ Protein sequence extracted. Length = {len(protein_seq)} amino acids\")\n",
        "\n",
        "# Step 3: Run BLASTP\n",
        "print(\"Running BLASTP... this may take a few minutes.\")\n",
        "result_handle = NCBIWWW.qblast(\"blastp\", \"nr\", protein_seq)\n",
        "\n",
        "# Step 4: Parse BLAST results\n",
        "blast_record = NCBIXML.read(result_handle)\n",
        "\n",
        "print(\"\\nTop 5 BLAST Hits for NM_000321 translated protein:\")\n",
        "print(\"=\" * 70)\n",
        "for alignment in blast_record.alignments[:5]:\n",
        "    hsp = alignment.hsps[0]\n",
        "    identity_pct = 100 * hsp.identities / hsp.align_length\n",
        "    print(f\"Hit: {alignment.hit_def}\")\n",
        "    print(f\" Accession: {alignment.accession}\")\n",
        "    print(f\" Length: {alignment.length}\")\n",
        "    print(f\" Identity: {hsp.identities}/{hsp.align_length} ({identity_pct:.2f}%)\")\n",
        "    print(f\" E-value: {hsp.expect}\")\n",
        "    print(\"-\" * 70)\n"
      ],
      "metadata": {
        "colab": {
          "base_uri": "https://localhost:8080/"
        },
        "id": "jWxTlgRmD9eb",
        "outputId": "518a1d9d-5e42-4c84-cdfb-25f68ca48643"
      },
      "execution_count": 16,
      "outputs": [
        {
          "output_type": "stream",
          "name": "stdout",
          "text": [
            "Fetching NM_000321 from NCBI...\n",
            "✅ Protein sequence extracted. Length = 928 amino acids\n",
            "Running BLASTP... this may take a few minutes.\n",
            "\n",
            "Top 5 BLAST Hits for NM_000321 translated protein:\n",
            "======================================================================\n",
            "Hit: retinoblastoma-associated protein isoform 1 [Homo sapiens] >ref|XP_003811470.1| retinoblastoma-associated protein isoform X1 [Pan paniscus] >sp|P06400.2| RecName: Full=Retinoblastoma-associated protein; AltName: Full=p105-Rb; AltName: Full=p110-RB1; AltName: Full=pRb; Short=Rb; AltName: Full=pp110 [Homo sapiens] >gb|ABM82490.1| retinoblastoma 1 (including osteosarcoma) [synthetic construct] >gb|AAA53483.1| retinoblastoma susceptibility protein [Homo sapiens] >gb|AAA53484.1| retinoblastoma susceptibility protein [Homo sapiens] >gb|AAA69806.1| retinoblastoma-associated protein [Homo sapiens] >gb|AAA69808.1| retinoblastoma suceptibility protein [Homo sapiens]\n",
            " Accession: NP_000312\n",
            " Length: 928\n",
            " Identity: 928/928 (100.00%)\n",
            " E-value: 0.0\n",
            "----------------------------------------------------------------------\n",
            "Hit: retinoblastoma-associated protein isoform X1 [Pan troglodytes] >gb|PNI43705.1| RB1 isoform 1 [Pan troglodytes]\n",
            " Accession: XP_509777\n",
            " Length: 928\n",
            " Identity: 927/928 (99.89%)\n",
            " E-value: 0.0\n",
            "----------------------------------------------------------------------\n",
            "Hit: retinoblastoma-associated protein, partial [synthetic construct]\n",
            " Accession: BAG10582\n",
            " Length: 928\n",
            " Identity: 927/928 (99.89%)\n",
            " E-value: 0.0\n",
            "----------------------------------------------------------------------\n",
            "Hit: retinoblastoma 1 (including osteosarcoma) [Homo sapiens]\n",
            " Accession: AAN64133\n",
            " Length: 928\n",
            " Identity: 926/928 (99.78%)\n",
            " E-value: 0.0\n",
            "----------------------------------------------------------------------\n",
            "Hit: retinoblastoma-associated protein isoform X1 [Gorilla gorilla gorilla]\n",
            " Accession: XP_030857166\n",
            " Length: 928\n",
            " Identity: 926/928 (99.78%)\n",
            " E-value: 0.0\n",
            "----------------------------------------------------------------------\n"
          ]
        }
      ]
    }
  ]
}